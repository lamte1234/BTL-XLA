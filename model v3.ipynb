{
 "cells": [
  {
   "cell_type": "code",
   "execution_count": 1,
   "id": "12d02939-bbbf-4aaa-9737-57934c6538a6",
   "metadata": {},
   "outputs": [],
   "source": [
    "import cv2 as cv\n",
    "import numpy as np\n",
    "import pandas as pd\n",
    "from PIL import Image, ImageEnhance\n",
    "import math\n",
    "import matplotlib.pyplot as plt"
   ]
  },
  {
   "cell_type": "code",
   "execution_count": 2,
   "id": "ce6796f4-e00e-432c-8961-4b05fe49b5d5",
   "metadata": {},
   "outputs": [],
   "source": [
    "def display_bgr2rgp(img):\n",
    "    rgb_img = cv.cvtColor(img, cv.COLOR_BGR2RGB)\n",
    "    plt.figure(figsize=(10,10))\n",
    "    plt.imshow(rgb_img)\n",
    "    plt.show()\n",
    "    \n",
    "def preprocess(img, factor=2):\n",
    "    gray = cv.cvtColor(img, cv.COLOR_BGR2GRAY)\n",
    "    img = Image.fromarray(img)\n",
    "    enhancer = ImageEnhance.Sharpness(img).enhance(factor)\n",
    "    if gray.std() < 30:\n",
    "        enhancer = ImageEnhance.Contrast(enhancer).enhance(factor)\n",
    "    return np.array(enhancer)\n",
    "\n",
    "def cell_in_same_row(c1, c2):\n",
    "    c1_center = c1[1] + c1[3] / 2\n",
    "    c2_bottom = c2[1] + c2[3]\n",
    "    c2_top = c2[1]\n",
    "    return c2_top < c1_center < c2_bottom\n",
    "\n",
    "def avg_height_of_center(row):\n",
    "    centers = [y + h / 2 for x, y, w, h in row]\n",
    "    return sum(centers) / len(centers)"
   ]
  },
  {
   "cell_type": "code",
   "execution_count": 108,
   "id": "b5b6371c-925b-4ba5-b637-32d6b8e3c9b6",
   "metadata": {},
   "outputs": [
    {
     "data": {
      "image/png": "[encoded data removed]",
      "text/plain": [
       "<Figure size 720x720 with 1 Axes>"
      ]
     },
     "metadata": {
      "needs_background": "light"
     },
     "output_type": "display_data"
    }
   ],
   "source": [
    "img_path = \"images/48868.png\"\n",
    "\n",
    "img = cv.imread(img_path)\n",
    "img = preprocess(img, 2)\n",
    "\n",
    "display_bgr2rgp(img)"
   ]
  },
  {
   "cell_type": "code",
   "execution_count": 109,
   "id": "35771ec7-9f99-4657-b74a-b9584c7f2114",
   "metadata": {},
   "outputs": [],
   "source": [
    "def binarilize(img):\n",
    "    gray = cv.cvtColor(img, cv.COLOR_BGR2GRAY)\n",
    "    blur = cv.GaussianBlur(gray, (3,3), 0, 0)\n",
    "    thresh = cv.adaptiveThreshold(~blur,255,cv.ADAPTIVE_THRESH_MEAN_C,cv.THRESH_BINARY,5,-2,)\n",
    "    # remove border noise\n",
    "    cv.rectangle(thresh, (0,0), thresh.shape[::-1], 0, 3)\n",
    "    return thresh\n",
    "\n",
    "def remove_border(thresh, REMOVE_SCALE=3):\n",
    "    # get vertical and horizontal lines and remove them\n",
    "    vertical = horizontal = thresh.copy()\n",
    "    img_height, img_width = horizontal.shape\n",
    "    \n",
    "    horizontal_kernel = cv.getStructuringElement(cv.MORPH_RECT, (int(img_width / REMOVE_SCALE), 1))\n",
    "    horizontally_opened = cv.morphologyEx(thresh, cv.MORPH_OPEN, horizontal_kernel)\n",
    "    vertical_kernel = cv.getStructuringElement(cv.MORPH_RECT, (1, int(img_height / REMOVE_SCALE)))\n",
    "    vertically_opened = cv.morphologyEx(thresh, cv.MORPH_OPEN, vertical_kernel)\n",
    "    both = horizontally_opened + vertically_opened\n",
    "    both = cv.dilate(both, cv.getStructuringElement(cv.MORPH_RECT, (5,5)))\n",
    "    \n",
    "    borderless = thresh - both\n",
    "\n",
    "    return borderless\n",
    "\n",
    "def check_combine_column(a, b, MIN_COLUMN_SPACE=12):\n",
    "    #x2 > x1\n",
    "    x1, y1, w1, h1 = a\n",
    "    x2, y2, w2, h2 = b\n",
    "    \n",
    "    col_space = x2 - (x1 + w1) + 1\n",
    "    if col_space < MIN_COLUMN_SPACE:\n",
    "        new_rect = (x1, min(y1, y2), w2+x2-x1+1, max(y1+h1, y2+h2) - min(y1,y2)+ 1)\n",
    "        return new_rect\n",
    "    else:\n",
    "        return False\n",
    "    \n",
    "# def check_combine_row(a, b, MIN_ROW_SPACE=12):\n",
    "#     #y2 > y1\n",
    "#     x1, y1, w1, h1 = a\n",
    "#     x2, y2, w2, h2 = b\n",
    "    \n",
    "#     row_space = y2 - (y1 + h1) + 1\n",
    "#     if row_space < MIN_ROW_SPACE:\n",
    "#         new_rect = (min(x1,x2), y1, max(x1+w1, x2+w2) - min(x1,x2) + 1, h2+y2-y1+1)\n",
    "#         return new_rect\n",
    "#     else:\n",
    "#         return False\n",
    "    \n",
    "def reduce_col(rects, MIN_COLUMN_SPACE=12):\n",
    "    cursor = len(rects) - 1\n",
    "    while cursor > 0:\n",
    "        last = rects[cursor]\n",
    "        next_last = rects[cursor-1] if rects[cursor-1] else None\n",
    "        if next_last:\n",
    "            check = check_combine_column(next_last, last, MIN_COLUMN_SPACE)\n",
    "            if check != False:\n",
    "                rects.pop(cursor)\n",
    "                rects.pop(cursor - 1)\n",
    "                rects.insert(cursor-1, check)\n",
    "        cursor -= 1\n",
    "    return rects\n",
    "\n",
    "# def reduce_row(rects, MIN_ROW_SPACE=12):\n",
    "#     cursor = len(rects) - 1\n",
    "#     while cursor > 0:\n",
    "#         last = rects[cursor]\n",
    "#         next_last = rects[cursor-1] if rects[cursor-1] else None\n",
    "#         if next_last:\n",
    "#             check = check_combine_row(last, next_last, MIN_ROW_SPACE)\n",
    "#             if check != False:\n",
    "#                 rects.pop(cursor)\n",
    "#                 rects.pop(cursor - 1)\n",
    "#                 rects.insert(cursor-1, check)\n",
    "#         cursor -= 1\n",
    "#     return rects\n"
   ]
  },
  {
   "cell_type": "code",
   "execution_count": 110,
   "id": "436e6619-9ddf-43ac-b30d-a758577e0cac",
   "metadata": {},
   "outputs": [
    {
     "data": {
      "image/png": "[encoded data removed]",
      "text/plain": [
       "<Figure size 432x288 with 1 Axes>"
      ]
     },
     "metadata": {
      "needs_background": "light"
     },
     "output_type": "display_data"
    }
   ],
   "source": [
    "binimg = binarilize(img)\n",
    "plt.imshow(binimg, cmap='gray')\n",
    "plt.show()"
   ]
  },
  {
   "cell_type": "code",
   "execution_count": 111,
   "id": "27a2f883-b417-41f3-8b03-18ae4ee992b5",
   "metadata": {},
   "outputs": [
    {
     "data": {
      "image/png": "[encoded data removed]",
      "text/plain": [
       "<Figure size 432x288 with 1 Axes>"
      ]
     },
     "metadata": {
      "needs_background": "light"
     },
     "output_type": "display_data"
    }
   ],
   "source": [
    "borderless = remove_border(binimg, REMOVE_SCALE=4)\n",
    "plt.imshow(borderless, cmap='gray')\n",
    "plt.show()"
   ]
  },
  {
   "cell_type": "code",
   "execution_count": 112,
   "id": "15a7fa0b-f782-4cc1-bf16-2632766cf206",
   "metadata": {},
   "outputs": [],
   "source": [
    "vertical = horizontal = borderless.copy()\n",
    "img_height, img_width = horizontal.shape"
   ]
  },
  {
   "cell_type": "code",
   "execution_count": 113,
   "id": "8873f7e3-49df-49bd-b7a9-48b3728498fa",
   "metadata": {},
   "outputs": [
    {
     "data": {
      "image/png": "[encoded data removed]",
      "text/plain": [
       "<Figure size 432x288 with 1 Axes>"
      ]
     },
     "metadata": {
      "needs_background": "light"
     },
     "output_type": "display_data"
    }
   ],
   "source": [
    "SCALE = 10\n",
    "horizontal_kernel = cv.getStructuringElement(cv.MORPH_RECT, (int(img_width / SCALE), 1))\n",
    "hor_dilate = cv.dilate(horizontal, horizontal_kernel, iterations=20)\n",
    "_,hor_dilate = cv.threshold(hor_dilate,127,255,cv.THRESH_BINARY)\n",
    "plt.imshow(hor_dilate, cmap='gray')\n",
    "plt.show()"
   ]
  },
  {
   "cell_type": "code",
   "execution_count": 114,
   "id": "58d731fe-0c12-423f-9082-01f2fe90bfbd",
   "metadata": {},
   "outputs": [
    {
     "data": {
      "image/png": "[encoded data removed]",
      "text/plain": [
       "<Figure size 432x288 with 1 Axes>"
      ]
     },
     "metadata": {
      "needs_background": "light"
     },
     "output_type": "display_data"
    }
   ],
   "source": [
    "vertical_kernel = cv.getStructuringElement(cv.MORPH_RECT, (1,int(img_width / SCALE)))\n",
    "ver_dilate = cv.dilate(vertical, vertical_kernel, iterations=20)\n",
    "_,ver_dilate = cv.threshold(ver_dilate,127,255,cv.THRESH_BINARY)\n",
    "plt.imshow(ver_dilate, cmap='gray')\n",
    "plt.show()"
   ]
  },
  {
   "cell_type": "code",
   "execution_count": 115,
   "id": "d459d7c2-b3e7-4635-9169-108813be3d58",
   "metadata": {},
   "outputs": [
    {
     "data": {
      "image/png": "[encoded data removed]",
      "text/plain": [
       "<Figure size 432x288 with 1 Axes>"
      ]
     },
     "metadata": {
      "needs_background": "light"
     },
     "output_type": "display_data"
    }
   ],
   "source": [
    "bw_and = cv.bitwise_and(hor_dilate, ver_dilate)\n",
    "plt.imshow(bw_and, cmap='gray')\n",
    "plt.show()"
   ]
  },
  {
   "cell_type": "code",
   "execution_count": 116,
   "id": "a953385a-1065-4456-8055-94fba7f810cc",
   "metadata": {},
   "outputs": [
    {
     "data": {
      "text/plain": [
       "35"
      ]
     },
     "execution_count": 116,
     "metadata": {},
     "output_type": "execute_result"
    }
   ],
   "source": [
    "contours, hierarchy = cv.findContours(bw_and, cv.RETR_EXTERNAL, cv.CHAIN_APPROX_NONE)\n",
    "len(contours)"
   ]
  },
  {
   "cell_type": "code",
   "execution_count": 117,
   "id": "93bfccbf-a9fd-4f74-b723-a1aaf88f6104",
   "metadata": {},
   "outputs": [
    {
     "data": {
      "text/plain": [
       "35"
      ]
     },
     "execution_count": 117,
     "metadata": {},
     "output_type": "execute_result"
    }
   ],
   "source": [
    "bounding_boxes =  [cv.boundingRect(c) for c in contours]\n",
    "len(bounding_boxes)"
   ]
  },
  {
   "cell_type": "code",
   "execution_count": 118,
   "id": "fadecea0-9980-4d34-aa53-7a4152ded5dc",
   "metadata": {},
   "outputs": [
    {
     "data": {
      "image/png": "[encoded data removed]",
      "text/plain": [
       "<Figure size 432x288 with 1 Axes>"
      ]
     },
     "metadata": {
      "needs_background": "light"
     },
     "output_type": "display_data"
    }
   ],
   "source": [
    "test = binimg.copy()\n",
    "for box in bounding_boxes:\n",
    "    cv.rectangle(test, (box[0], box[1]), (box[0]+box[2], box[1]+box[3]), 255, 2)\n",
    "    \n",
    "plt.imshow(test, cmap='gray')\n",
    "plt.show()"
   ]
  },
  {
   "cell_type": "code",
   "execution_count": 119,
   "id": "2674f28c-0211-49bd-892d-b22d7690a69c",
   "metadata": {},
   "outputs": [],
   "source": [
    "cells = [c for c in bounding_boxes]\n",
    "\n",
    "rows = []\n",
    "while cells:\n",
    "    first = cells[0]\n",
    "    rest = cells[1:]\n",
    "    cells_in_same_row = sorted([c for c in rest if cell_in_same_row(c, first)], key=lambda c: c[0])\n",
    "\n",
    "    row_cells = sorted([first] + cells_in_same_row, key=lambda c: c[0])\n",
    "    row_cells = reduce_col(row_cells)\n",
    "    rows.append(row_cells)\n",
    "    cells = [c for c in rest if not cell_in_same_row(c, first)]\n",
    "\n",
    "rows.sort(key=avg_height_of_center)"
   ]
  },
  {
   "cell_type": "code",
   "execution_count": 120,
   "id": "cb876e76-1344-4774-86c5-d7063f45bdfd",
   "metadata": {},
   "outputs": [
    {
     "data": {
      "text/plain": [
       "[[(7, 7, 19, 13), (124, 7, 25, 13), (238, 7, 23, 15)],\n",
       " [(7, 30, 19, 13), (124, 30, 25, 13), (238, 30, 23, 15)],\n",
       " [(7, 49, 19, 1), (124, 49, 25, 1), (238, 49, 23, 3)],\n",
       " [(7, 52, 19, 13), (124, 52, 25, 13), (238, 52, 23, 15)],\n",
       " [(7, 74, 19, 13), (124, 74, 25, 13), (238, 74, 23, 15)],\n",
       " [(7, 97, 19, 13), (124, 97, 25, 13), (238, 97, 23, 15)],\n",
       " [(7, 119, 19, 13), (124, 119, 25, 13), (238, 119, 23, 15)]]"
      ]
     },
     "execution_count": 120,
     "metadata": {},
     "output_type": "execute_result"
    }
   ],
   "source": [
    "rows"
   ]
  },
  {
   "cell_type": "code",
   "execution_count": 121,
   "id": "d4465ab5-ac62-4865-ae3f-538f69351878",
   "metadata": {},
   "outputs": [
    {
     "data": {
      "text/plain": [
       "[[(7, 7, 19, 13), (124, 7, 25, 13), (238, 7, 23, 15)],\n",
       " [(7, 30, 19, 13), (124, 30, 25, 13)],\n",
       " [(7, 52, 19, 13), (124, 52, 25, 13)],\n",
       " [(7, 74, 7, 13), (124, 74, 17, 13)],\n",
       " [(7, 97, 19, 13), (124, 97, 25, 13)],\n",
       " [(7, 119, 7, 13), (124, 119, 17, 13)]]"
      ]
     },
     "execution_count": 121,
     "metadata": {},
     "output_type": "execute_result"
    }
   ],
   "source": [
    "new_rows = []\n",
    "for row in rows:\n",
    "    new_row_cell = []\n",
    "    for cell in row:\n",
    "        cx, cy, cw, ch = cell\n",
    "        cell_thresh = borderless[cy:cy+ch, cx:cx+cw]\n",
    "\n",
    "        ver = hor = cell_thresh.copy()\n",
    "        ih, iw = hor.shape\n",
    "\n",
    "#         hor_kernel = cv.getStructuringElement(cv.MORPH_RECT, (int(iw/3), 1))\n",
    "#         ver_kernel = cv.getStructuringElement(cv.MORPH_RECT, (1, int(ih/3)))\n",
    "#         hor_opened = cv.morphologyEx(hor, cv.MORPH_OPEN, hor_kernel)\n",
    "#         ver_opened = cv.morphologyEx(ver, cv.MORPH_OPEN, ver_kernel)\n",
    "\n",
    "#         both = hor_opened + ver_opened\n",
    "#         clean = cell_thresh - both\n",
    "\n",
    "        kernel = cv.getStructuringElement(cv.MORPH_RECT, (1,int(iw /3)))\n",
    "        opened = cv.dilate(cell_thresh, kernel)\n",
    "        contours, hierarchy = cv.findContours(opened, cv.RETR_EXTERNAL, cv.CHAIN_APPROX_NONE)\n",
    "        bounding_rects = [cv.boundingRect(c) for c in contours]\n",
    "        MIN_CHAR_HEIGTH = 9\n",
    "        MIN_CHAR_WIDTH = 5\n",
    "        char_sized_bounding_rects = [(x, y, w, h) for x, y, w, h in bounding_rects if w >= MIN_CHAR_WIDTH and h >= MIN_CHAR_HEIGTH]\n",
    "        \n",
    "        if char_sized_bounding_rects:\n",
    "            minx, miny, maxx, maxy = math.inf, math.inf, 0, 0\n",
    "            for x, y, w, h in char_sized_bounding_rects:\n",
    "                minx = min(minx, x)\n",
    "                miny = min(miny, y)\n",
    "                maxx = max(maxx, x + w)\n",
    "                maxy = max(maxy, y + h)\n",
    "            x, y, w, h = minx, miny, maxx - minx, maxy - miny\n",
    "            cropped = (cx+x, cy+y, min(iw, w), min(ih, h))\n",
    "            new_row_cell.append(cropped)\n",
    "    if new_row_cell != []:    \n",
    "        new_rows.append(new_row_cell)\n",
    "        \n",
    "new_rows"
   ]
  },
  {
   "cell_type": "code",
   "execution_count": 122,
   "id": "6db7dd57-2d00-49f1-b369-135af3b535b3",
   "metadata": {},
   "outputs": [
    {
     "data": {
      "image/png": "[encoded data removed]",
      "text/plain": [
       "<Figure size 432x288 with 1 Axes>"
      ]
     },
     "metadata": {
      "needs_background": "light"
     },
     "output_type": "display_data"
    }
   ],
   "source": [
    "def ravel(lst):\n",
    "    result = []\n",
    "    for row in lst:\n",
    "        for cell in row:\n",
    "            result.append(cell)\n",
    "\n",
    "    return result\n",
    "\n",
    "bnd_rects = ravel(new_rows)\n",
    "test = binimg.copy()\n",
    "for box in bnd_rects:\n",
    "    cv.rectangle(test, (box[0], box[1]), (box[0]+box[2], box[1]+box[3]), 255, 2)\n",
    "    \n",
    "plt.imshow(test, cmap='gray')\n",
    "plt.show()"
   ]
  },
  {
   "cell_type": "code",
   "execution_count": null,
   "id": "a5b57a7a-d279-47c7-89ed-22326cfc91c0",
   "metadata": {},
   "outputs": [],
   "source": []
  },
  {
   "cell_type": "code",
   "execution_count": null,
   "id": "cfc1b33f-5ee5-4821-86eb-a32e577f8114",
   "metadata": {},
   "outputs": [],
   "source": []
  }
 ],
 "metadata": {
  "kernelspec": {
   "display_name": "Python 3 (ipykernel)",
   "language": "python",
   "name": "python3"
  },
  "language_info": {
   "codemirror_mode": {
    "name": "ipython",
    "version": 3
   },
   "file_extension": ".py",
   "mimetype": "text/x-python",
   "name": "python",
   "nbconvert_exporter": "python",
   "pygments_lexer": "ipython3",
   "version": "3.8.11"
  }
 },
 "nbformat": 4,
 "nbformat_minor": 5
}
